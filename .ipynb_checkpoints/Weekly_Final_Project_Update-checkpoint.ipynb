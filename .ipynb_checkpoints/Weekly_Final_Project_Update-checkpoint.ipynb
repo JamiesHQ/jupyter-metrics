{
 "cells": [
  {
   "cell_type": "markdown",
   "metadata": {
    "deletable": true,
    "editable": true
   },
   "source": [
    "#### Plan"
   ]
  },
  {
   "cell_type": "markdown",
   "metadata": {
    "deletable": true,
    "editable": true
   },
   "source": [
    "Create a metrics dashboard that provides a general health check for the jupyter project that includes:\n",
    "- A happy/sad sentiment indicator per org (and possibly the highest traffic repos)\n",
    "- An NLP-based tool that categorizes issues based on their content\n",
    "- General metrics like counts of issues and contributors over time"
   ]
  },
  {
   "cell_type": "markdown",
   "metadata": {
    "deletable": true,
    "editable": true
   },
   "source": [
    "#### Progress to date:"
   ]
  },
  {
   "cell_type": "markdown",
   "metadata": {
    "deletable": true,
    "editable": true
   },
   "source": [
    "1. set up the main page for the dashboard on Heroku at http://jupyter-metrics.herokuapp.com/index\n",
    "2. I've used the GitHub API to pull down data from the main Jupyter org\n",
    "3. I've performed initial data exploration and topic modeling of all comments in all repos for that org"
   ]
  },
  {
   "cell_type": "markdown",
   "metadata": {
    "deletable": true,
    "editable": true
   },
   "source": [
    "#### Demo of Tangible Progress"
   ]
  },
  {
   "cell_type": "markdown",
   "metadata": {
    "deletable": true,
    "editable": true
   },
   "source": [
    "Some data cleaning and Exploratory data analysis (including counts):\n",
    "https://github.com/JamiesHQ/GA-FinalProject/blob/master/GA%20Data%20Science%20Final%20Project%20-%202-%20Cleaning%20and%20EDA.ipynb\n",
    "\n",
    "Vectorization and topic modeling\n",
    "https://github.com/JamiesHQ/GA-FinalProject/blob/master/GA%20Data%20Science%20Final%20Project%20-%203-%20NLP.ipynb\n",
    "\n",
    "Visualization of the dimension reduction\n",
    "https://github.com/JamiesHQ/GA-FinalProject/blob/master/GA%20Data%20Science%20Final%20Project%20-%204-%20NLP-Latent%20Semantic%20Analysis%20and%20KMeans.ipynb"
   ]
  },
  {
   "cell_type": "markdown",
   "metadata": {
    "deletable": true,
    "editable": true
   },
   "source": [
    "#### Research"
   ]
  },
  {
   "cell_type": "markdown",
   "metadata": {
    "deletable": true,
    "editable": true
   },
   "source": [
    "##### Building the Flask App\n",
    "https://realpython.com/blog/python/python-web-applications-with-flask-part-i/\n",
    "\n",
    "##### Viz  \n",
    "http://multithreaded.stitchfix.com/blog/2015/07/16/pyxley/"
   ]
  },
  {
   "cell_type": "markdown",
   "metadata": {
    "collapsed": true,
    "deletable": true,
    "editable": true
   },
   "source": [
    "#### Templates"
   ]
  },
  {
   "cell_type": "markdown",
   "metadata": {
    "deletable": true,
    "editable": true
   },
   "source": [
    "https://www.klipfolio.com/resources/articles/kpi-dashboard-operational-metrics-top-10-guidelines"
   ]
  },
  {
   "cell_type": "markdown",
   "metadata": {
    "collapsed": true,
    "deletable": true,
    "editable": true
   },
   "source": [
    "http://localhost:8889/tree?token=18931bf465dd40eb0c5f98c07b762d5052497d825b0d947b"
   ]
  },
  {
   "cell_type": "code",
   "execution_count": null,
   "metadata": {
    "collapsed": true
   },
   "outputs": [],
   "source": []
  }
 ],
 "metadata": {
  "kernelspec": {
   "display_name": "Python 2",
   "language": "python",
   "name": "python2"
  },
  "language_info": {
   "codemirror_mode": {
    "name": "ipython",
    "version": 2
   },
   "file_extension": ".py",
   "mimetype": "text/x-python",
   "name": "python",
   "nbconvert_exporter": "python",
   "pygments_lexer": "ipython2",
   "version": "2.7.11"
  }
 },
 "nbformat": 4,
 "nbformat_minor": 2
}
